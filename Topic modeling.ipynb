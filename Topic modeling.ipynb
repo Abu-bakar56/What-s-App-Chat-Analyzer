{
 "cells": [
  {
   "cell_type": "code",
   "execution_count": 47,
   "id": "b4c1897d-bdb0-4bcb-9466-f7859d16bd93",
   "metadata": {},
   "outputs": [],
   "source": [
    "import pandas as pd\n",
    "from sklearn.model_selection import train_test_split\n",
    "from sklearn.feature_extraction.text import TfidfVectorizer\n",
    "from sklearn.naive_bayes import MultinomialNB\n",
    "from sklearn.metrics import accuracy_score\n",
    "import numpy as np\n",
    "from imblearn.combine import SMOTEENN\n",
    "from sklearn.ensemble import RandomForestClassifier\n",
    "from imblearn.combine import SMOTEENN\n",
    "from imblearn.over_sampling import SMOTE\n",
    "import re\n",
    "from collections import Counter\n",
    "import pickle\n"
   ]
  },
  {
   "cell_type": "code",
   "execution_count": 10,
   "id": "3edcfa04-b0ea-44e3-b809-29baa58a4ac6",
   "metadata": {},
   "outputs": [],
   "source": [
    "df = pd.read_csv('Topics.csv')"
   ]
  },
  {
   "cell_type": "code",
   "execution_count": 11,
   "id": "6dce21b1-82ca-4cfa-83a4-b3f300e2f745",
   "metadata": {},
   "outputs": [
    {
     "data": {
      "text/html": [
       "<div>\n",
       "<style scoped>\n",
       "    .dataframe tbody tr th:only-of-type {\n",
       "        vertical-align: middle;\n",
       "    }\n",
       "\n",
       "    .dataframe tbody tr th {\n",
       "        vertical-align: top;\n",
       "    }\n",
       "\n",
       "    .dataframe thead th {\n",
       "        text-align: right;\n",
       "    }\n",
       "</style>\n",
       "<table border=\"1\" class=\"dataframe\">\n",
       "  <thead>\n",
       "    <tr style=\"text-align: right;\">\n",
       "      <th></th>\n",
       "      <th>word</th>\n",
       "      <th>topic</th>\n",
       "    </tr>\n",
       "  </thead>\n",
       "  <tbody>\n",
       "    <tr>\n",
       "      <th>0</th>\n",
       "      <td>ha</td>\n",
       "      <td>Casual Conversations</td>\n",
       "    </tr>\n",
       "    <tr>\n",
       "      <th>1</th>\n",
       "      <td>ni</td>\n",
       "      <td>Casual Conversations</td>\n",
       "    </tr>\n",
       "    <tr>\n",
       "      <th>2</th>\n",
       "      <td>kr</td>\n",
       "      <td>Casual Conversations</td>\n",
       "    </tr>\n",
       "    <tr>\n",
       "      <th>3</th>\n",
       "      <td>message</td>\n",
       "      <td>Casual Conversations</td>\n",
       "    </tr>\n",
       "    <tr>\n",
       "      <th>4</th>\n",
       "      <td>ma</td>\n",
       "      <td>Casual Conversations</td>\n",
       "    </tr>\n",
       "  </tbody>\n",
       "</table>\n",
       "</div>"
      ],
      "text/plain": [
       "      word                 topic\n",
       "0       ha  Casual Conversations\n",
       "1       ni  Casual Conversations\n",
       "2       kr  Casual Conversations\n",
       "3  message  Casual Conversations\n",
       "4       ma  Casual Conversations"
      ]
     },
     "execution_count": 11,
     "metadata": {},
     "output_type": "execute_result"
    }
   ],
   "source": [
    "df.head()"
   ]
  },
  {
   "cell_type": "code",
   "execution_count": 12,
   "id": "f6c558bf-e08c-401d-8590-5f204cd1322b",
   "metadata": {},
   "outputs": [
    {
     "data": {
      "text/plain": [
       "Casual Conversations         2676\n",
       "Academic Discussions          216\n",
       "Everyday Queries              152\n",
       "Informal Discussions          109\n",
       "School or Group Chat           80\n",
       "General Updates                34\n",
       "Religious References           18\n",
       "Casual Banter                  17\n",
       "Political Discussions          15\n",
       "Relationship Talks             13\n",
       "General News and Updates       11\n",
       "Health and Wellness             8\n",
       "Shopping Discussions            5\n",
       "Sports Discussions              5\n",
       "Travel Discussions              5\n",
       "Music Conversations             4\n",
       "Entertainment Discussions       4\n",
       "Family Matters                  4\n",
       "Academic Performance            4\n",
       "Food and Cooking                3\n",
       "Business and Economy            1\n",
       "Imran Khan                      1\n",
       "Name: topic, dtype: int64"
      ]
     },
     "execution_count": 12,
     "metadata": {},
     "output_type": "execute_result"
    }
   ],
   "source": [
    "df['topic'].value_counts()"
   ]
  },
  {
   "cell_type": "code",
   "execution_count": 13,
   "id": "aea6fc99-32b2-4ff2-9d7a-cfb89e808f9b",
   "metadata": {},
   "outputs": [],
   "source": [
    "# Filter out rows where 'topics' is either 'Imran Khan' or 'Business and Economy'\n",
    "df = df[~df['topic'].isin(['Imran Khan', 'Business and Economy'])]\n"
   ]
  },
  {
   "cell_type": "code",
   "execution_count": 14,
   "id": "3bf83aff-efa2-4a78-a510-17313ea111c4",
   "metadata": {},
   "outputs": [
    {
     "data": {
      "text/plain": [
       "Casual Conversations         2676\n",
       "Academic Discussions          216\n",
       "Everyday Queries              152\n",
       "Informal Discussions          109\n",
       "School or Group Chat           80\n",
       "General Updates                34\n",
       "Religious References           18\n",
       "Casual Banter                  17\n",
       "Political Discussions          15\n",
       "Relationship Talks             13\n",
       "General News and Updates       11\n",
       "Health and Wellness             8\n",
       "Shopping Discussions            5\n",
       "Sports Discussions              5\n",
       "Travel Discussions              5\n",
       "Music Conversations             4\n",
       "Family Matters                  4\n",
       "Academic Performance            4\n",
       "Entertainment Discussions       4\n",
       "Food and Cooking                3\n",
       "Name: topic, dtype: int64"
      ]
     },
     "execution_count": 14,
     "metadata": {},
     "output_type": "execute_result"
    }
   ],
   "source": [
    "df['topic'].value_counts()"
   ]
  },
  {
   "cell_type": "code",
   "execution_count": 15,
   "id": "09b9892c-b0fd-4820-80b0-388926ed3fe1",
   "metadata": {},
   "outputs": [
    {
     "data": {
      "text/plain": [
       "<bound method NDFrame.describe of          word                 topic\n",
       "0          ha  Casual Conversations\n",
       "1          ni  Casual Conversations\n",
       "2          kr  Casual Conversations\n",
       "3     message  Casual Conversations\n",
       "4          ma  Casual Conversations\n",
       "...       ...                   ...\n",
       "3380    javed  Casual Conversations\n",
       "3381    maina  Casual Conversations\n",
       "3382   bhaijo  Casual Conversations\n",
       "3383   sunain  Casual Conversations\n",
       "3384     lift    Travel Discussions\n",
       "\n",
       "[3383 rows x 2 columns]>"
      ]
     },
     "execution_count": 15,
     "metadata": {},
     "output_type": "execute_result"
    }
   ],
   "source": [
    "df.describe"
   ]
  },
  {
   "cell_type": "code",
   "execution_count": null,
   "id": "4862f81a-1ff9-46c4-be72-3eb1ebdb9448",
   "metadata": {},
   "outputs": [],
   "source": []
  },
  {
   "cell_type": "code",
   "execution_count": 16,
   "id": "7f9abca1-e146-4764-accd-9ac61f0df3eb",
   "metadata": {},
   "outputs": [
    {
     "name": "stdout",
     "output_type": "stream",
     "text": [
      "<class 'pandas.core.frame.DataFrame'>\n",
      "Int64Index: 3383 entries, 0 to 3384\n",
      "Data columns (total 2 columns):\n",
      " #   Column  Non-Null Count  Dtype \n",
      "---  ------  --------------  ----- \n",
      " 0   word    3382 non-null   object\n",
      " 1   topic   3383 non-null   object\n",
      "dtypes: object(2)\n",
      "memory usage: 79.3+ KB\n"
     ]
    }
   ],
   "source": [
    "df.info()"
   ]
  },
  {
   "cell_type": "code",
   "execution_count": 17,
   "id": "2d60bf92-f00f-48b6-8537-766e7446d40b",
   "metadata": {},
   "outputs": [
    {
     "data": {
      "text/plain": [
       "word     1\n",
       "topic    0\n",
       "dtype: int64"
      ]
     },
     "execution_count": 17,
     "metadata": {},
     "output_type": "execute_result"
    }
   ],
   "source": [
    "df.isnull().sum()"
   ]
  },
  {
   "cell_type": "code",
   "execution_count": 18,
   "id": "8ba26b25-345d-4ddf-9044-f7389024eb7a",
   "metadata": {},
   "outputs": [
    {
     "data": {
      "text/plain": [
       "0       False\n",
       "1       False\n",
       "2       False\n",
       "3       False\n",
       "4       False\n",
       "        ...  \n",
       "3380    False\n",
       "3381    False\n",
       "3382    False\n",
       "3383    False\n",
       "3384    False\n",
       "Length: 3383, dtype: bool"
      ]
     },
     "execution_count": 18,
     "metadata": {},
     "output_type": "execute_result"
    }
   ],
   "source": [
    "df.duplicated()"
   ]
  },
  {
   "cell_type": "code",
   "execution_count": 19,
   "id": "84dee2e6-d3d1-4b35-925a-0c6effcbf2de",
   "metadata": {},
   "outputs": [],
   "source": [
    "df['word'] = df['word'].fillna('')"
   ]
  },
  {
   "cell_type": "code",
   "execution_count": 20,
   "id": "9366f4fb-246f-4db5-9bb9-a9c1accfeb49",
   "metadata": {},
   "outputs": [],
   "source": [
    "# Step 1: Vectorize the text data\n",
    "vectorizer = TfidfVectorizer()\n",
    "X = vectorizer.fit_transform(df['word'])\n",
    "\n",
    "smote = SMOTE(k_neighbors=2)\n",
    "\n",
    "# Step 3: Apply SMOTEENN with the SMOTE instance\n",
    "smote_enn = SMOTEENN(smote=smote)\n",
    "X_resampled, y_resampled = smote_enn.fit_resample(X, df['topic'])"
   ]
  },
  {
   "cell_type": "code",
   "execution_count": 21,
   "id": "04e35fb1-c075-4220-b95a-9fa71de7ab19",
   "metadata": {},
   "outputs": [],
   "source": [
    "X_train, X_test, y_train, y_test = train_test_split(X_resampled,y_resampled, test_size=0.2, random_state=42)"
   ]
  },
  {
   "cell_type": "code",
   "execution_count": 22,
   "id": "41078327-d703-4f2d-ac44-cdd090abdc82",
   "metadata": {},
   "outputs": [
    {
     "data": {
      "text/plain": [
       "RandomForestClassifier(class_weight='balanced')"
      ]
     },
     "execution_count": 22,
     "metadata": {},
     "output_type": "execute_result"
    }
   ],
   "source": [
    "model = RandomForestClassifier(class_weight='balanced')\n",
    "model.fit(X_train, y_train)\n",
    "\n"
   ]
  },
  {
   "cell_type": "code",
   "execution_count": 23,
   "id": "018f4d59-6fcf-4cf3-8466-449ab4c2608d",
   "metadata": {},
   "outputs": [
    {
     "name": "stdout",
     "output_type": "stream",
     "text": [
      "                           precision    recall  f1-score   support\n",
      "\n",
      "     Academic Discussions       1.00      0.93      0.96       541\n",
      "     Academic Performance       1.00      1.00      1.00       547\n",
      "            Casual Banter       1.00      1.00      1.00       570\n",
      "     Casual Conversations       0.82      1.00      0.90       527\n",
      "Entertainment Discussions       1.00      1.00      1.00       529\n",
      "         Everyday Queries       1.00      0.94      0.97       542\n",
      "           Family Matters       1.00      1.00      1.00       548\n",
      "         Food and Cooking       1.00      1.00      1.00       521\n",
      " General News and Updates       1.00      1.00      1.00       526\n",
      "          General Updates       1.00      0.99      0.99       548\n",
      "      Health and Wellness       1.00      1.00      1.00       519\n",
      "     Informal Discussions       1.00      0.97      0.98       547\n",
      "      Music Conversations       1.00      1.00      1.00       587\n",
      "    Political Discussions       1.00      1.00      1.00       530\n",
      "       Relationship Talks       1.00      1.00      1.00       507\n",
      "     Religious References       1.00      0.99      1.00       540\n",
      "     School or Group Chat       1.00      0.98      0.99       512\n",
      "     Shopping Discussions       1.00      1.00      1.00       534\n",
      "       Sports Discussions       1.00      1.00      1.00       521\n",
      "       Travel Discussions       1.00      1.00      1.00       507\n",
      "\n",
      "                 accuracy                           0.99     10703\n",
      "                macro avg       0.99      0.99      0.99     10703\n",
      "             weighted avg       0.99      0.99      0.99     10703\n",
      "\n"
     ]
    }
   ],
   "source": [
    "# Predict\n",
    "y_pred = model.predict(X_test)\n",
    "from sklearn.metrics import classification_report\n",
    "\n",
    "# Evaluate\n",
    "print(classification_report(y_test, y_pred))"
   ]
  },
  {
   "cell_type": "code",
   "execution_count": 24,
   "id": "bfe5ee68-4d19-4113-a0b4-ead751c43295",
   "metadata": {},
   "outputs": [],
   "source": [
    "f = open('i.txt','r',encoding='utf-8')"
   ]
  },
  {
   "cell_type": "code",
   "execution_count": 25,
   "id": "06ef4466-dda9-45ad-afac-646674dd3ca2",
   "metadata": {},
   "outputs": [],
   "source": [
    "data = f.read()"
   ]
  },
  {
   "cell_type": "code",
   "execution_count": 26,
   "id": "a95ed996-d218-4ede-b851-c9335ec17ff6",
   "metadata": {},
   "outputs": [],
   "source": [
    "pattern = '\\d{1,2}/\\d{1,2}/\\d{2,4},\\s\\d{1,2}:\\d{2}\\s?[ap]m\\s-\\s'"
   ]
  },
  {
   "cell_type": "code",
   "execution_count": 27,
   "id": "a311053c-9494-4a8a-8b9c-d7e971dba806",
   "metadata": {},
   "outputs": [
    {
     "data": {
      "text/plain": [
       "['Messages and calls are end-to-end encrypted. No one outside of this chat, not even WhatsApp, can read or listen to them. Tap to learn more.\\n',\n",
       " 'Raffay created group \"TUF (IT) Election\"\\n',\n",
       " \"You joined using this group's invite link\\n\",\n",
       " 'Raffay: Polling has been started cast your vote ASAP...2nd floor\\n',\n",
       " 'Hamza Malik Tuf A: *Anyone who needs assistance for get out of Class just for the sake of Voting Contact Me*\\n',\n",
       " 'Zayn Jutt💸🤙🏻: Thanks everyone for their support it’s really means alot❤️\\n',\n",
       " 'Zayn Jutt💸🤙🏻: Alhadulillah we won🤲🏻❤️\\n',\n",
       " '+92 304 1012203: Ma Sha Allah ♥️♥️♥️\\n',\n",
       " '+92 301 7103186: MashaAllah ♥️👍🏻\\n',\n",
       " \"Zayn Jutt💸🤙🏻 changed this group's settings to allow all members to send messages to this group\\n\",\n",
       " 'Zayn Jutt💸🤙🏻: Bht shukriya sb bhaioun kay pyar kaa❤️\\n',\n",
       " '+92 304 0020606: 101 votes, MashAllah\\n',\n",
       " 'Raffay: Alhamdullilah 😌❤️\\n',\n",
       " 'Mian mahad: MashAllah our both candidates win with huge margin , Alhamdulillah ❤️\\n',\n",
       " '+92 306 1646447: Congratulations buddy ❤️❤️\\n',\n",
       " '+92 321 0008096: <Media omitted>\\n',\n",
       " '+92 307 7184363: <Media omitted>\\n',\n",
       " '+92 345 7888818: MashAllah \\nBoth Win ❤️\\n',\n",
       " '+92 307 7184363: Mashallah brother ❤️❤️❤️\\n',\n",
       " 'Raffay: ❤️❤️\\n',\n",
       " '+92 325 6971998: Mashallah ❤️\\n',\n",
       " '+92 300 0267381: mashallah brother ❤\\n',\n",
       " '+92 303 0284952: Congratulations Both of You President And General Secretary Fpr Winning This Election\\n',\n",
       " '+92 307 6008044: Congratulations 🥳\\n',\n",
       " '+92 302 8708157: Congratulations bro ❤️\\n',\n",
       " '+92 300 6645152: Congratulations bro\\n',\n",
       " '+92 310 0910218: <Media omitted>\\n',\n",
       " '+92 323 6020139: Congrats bro <This message was edited>\\n',\n",
       " '+92 301 0579979: Mubarakan🥰🤩\\n',\n",
       " 'Zayn Jutt💸🤙🏻: Bht shukriya jnb ❤️\\n',\n",
       " 'Zayn Jutt💸🤙🏻: Once again thank you so much to all of you for your support it’s really means alot\\n',\n",
       " '+92 321 0008096: You deserve more love and respect\\n',\n",
       " 'DANISH Tuf added +92 300 0401790\\n',\n",
       " 'Zayn Jutt💸🤙🏻: <Media omitted>\\n',\n",
       " '+92 302 6663970: Mubarak hooooo bhaiyo\\n',\n",
       " 'Zayn Jutt💸🤙🏻: Khair mubarak❤️\\n',\n",
       " '+92 328 5111511: Congratulations 🎉 both of you\\n',\n",
       " '+92 302 0041007: MashAllah Zayn Bhai or Rafay Bhai congratulations 🎉🎉❤️\\n',\n",
       " '+92 302 0041007: Mubarak hoo President Zain Bhai or General Secretary Rafay Bhai ❤️❤️\\n',\n",
       " 'Zayn Jutt💸🤙🏻: Bht shukriya bhaai ap sb ka pyar or support hai❤️\\n',\n",
       " '+92 327 6995851: Bohot mubaraka ho\\n',\n",
       " 'Raffay: Bht bht shukriya janab aap sab k votes se hi banay hain\\U0001faf6🏻❤️\\n',\n",
       " '+92 345 7888818: Congratulations zain bhai president of tuf \\n bohot bohot mubarak ho ❤️🤍\\n',\n",
       " 'Zayn Jutt💸🤙🏻: Thank you so much jnb apky etny pyar kay liya❤️\\n',\n",
       " '+92 315 7080725: Ok\\n',\n",
       " 'Sexy  Ex CR: Mubarak Zain ameen and Raffay bhai bohat bohat ♥️\\n',\n",
       " 'Raffay: Khair Mubarak janab ❤️\\U0001faf6🏻\\n',\n",
       " '+92 302 0041007: Zain Bhai Congratulations for president of TUF ❤️ Bhai bht bht Mubarak hoo ❤️\\n',\n",
       " \"Hamza Malik Tuf A: With Collective Support from our team & massive love from our voters We've Got Our New President Of IT Society @923225481581 \\n\\nCongratulations Bhai\\n\",\n",
       " 'Zayn Jutt💸🤙🏻: Thank you babee❤️\\n',\n",
       " 'Zayn Jutt💸🤙🏻: Thank you bhai❤️\\n',\n",
       " '+92 300 0401790: @923225481581 Jutt sahb boht boht boht mubarkaaa’n 😘😘❤️\\n',\n",
       " 'Zayn Jutt💸🤙🏻: Bht shukriya meri jan❤️❤️\\n',\n",
       " '+92 303 9710645: This message was deleted\\n',\n",
       " '+92 320 7332140: This message was deleted\\n',\n",
       " '+92 320 7332140: Congratulations Zain and Rafay Bhai 🌧🌧🌧🌧\\n',\n",
       " 'Zayn Jutt💸🤙🏻 changed the group name from \"TUF (IT) Election\" to \"IT SOCIETY\"\\n',\n",
       " 'Zayn Jutt💸🤙🏻: https://chat.whatsapp.com/DIgvmsAqIOECWFj1e3fxi6\\n',\n",
       " 'Zayn Jutt💸🤙🏻: Join this group who want to work in it society as a event management member\\n',\n",
       " '+92 307 7184363: Aoa \\nBhai koi second smester cs ka student ha us na dld ka lab manual bnya ha tu send kr dy\\n',\n",
       " '+92 326 0531341: Abi roll number 160 AI C section ka larka 2 bana han as sa laa loo\\n',\n",
       " 'Zayn Jutt💸🤙🏻: <Media omitted>\\n',\n",
       " 'Zayn Jutt💸🤙🏻: Always be there for you guys\\nOnce again thanks to all of you guys for supporting me❤️\\n',\n",
       " '+92 310 0910218: <Media omitted>\\n',\n",
       " 'Zayn Jutt💸🤙🏻: Dm ao😂\\n',\n",
       " '+92 310 0910218: Plzz inka kuch kry\\n']"
      ]
     },
     "execution_count": 27,
     "metadata": {},
     "output_type": "execute_result"
    }
   ],
   "source": [
    "messages = re.split(pattern,data)[1:]\n",
    "messages"
   ]
  },
  {
   "cell_type": "code",
   "execution_count": 28,
   "id": "b4d3a8aa-41f0-4033-bdbe-07369bba8455",
   "metadata": {},
   "outputs": [],
   "source": [
    "dates = re.findall(pattern,data)\n",
    "\n",
    "dates = [item.replace('\\u202f', ' ') for item in dates]\n",
    "\n",
    "dates = [item.replace(' - ', '') for item in dates]\n",
    "\n"
   ]
  },
  {
   "cell_type": "code",
   "execution_count": 29,
   "id": "cdb717a8-7e79-4c64-b146-b187689979e4",
   "metadata": {},
   "outputs": [],
   "source": [
    "df = pd.DataFrame({'user_message': messages, 'message_date': dates})"
   ]
  },
  {
   "cell_type": "code",
   "execution_count": 30,
   "id": "aaa329e4-3028-4492-9e6a-152760d4419f",
   "metadata": {},
   "outputs": [],
   "source": [
    "users = []\n",
    "messages = []\n",
    "\n",
    "for message in df['user_message']:\n",
    "     entry = re.split('([\\w\\W]+?):\\s',message)\n",
    "     if entry[1:]:\n",
    "         users.append(entry[1])\n",
    "         messages.append(entry[2])\n",
    "     else:\n",
    "         users.append('group_notification')\n",
    "         messages.append(entry[0])\n",
    "\n",
    "df['user'] =users\n",
    "df['message'] = messages\n",
    "\n",
    "df.drop(columns=['user_message'],inplace=True)\n",
    "\n",
    "      "
   ]
  },
  {
   "cell_type": "code",
   "execution_count": 31,
   "id": "786ee1b6-3d32-46bb-997d-76cc4c5d3ea8",
   "metadata": {},
   "outputs": [],
   "source": [
    "df = df[df['user'] != 'group_notification' ]\n",
    "df = df[ df['user'] != 'Meta AI']\n",
    "df = df[  df['message'] != '<Media omitted>\\n']\n"
   ]
  },
  {
   "cell_type": "code",
   "execution_count": 32,
   "id": "51b7ac0d-54c1-494d-ac59-014082f99b5b",
   "metadata": {},
   "outputs": [],
   "source": [
    "def clean_text(text):\n",
    "    # Remove numbers\n",
    "    text = re.sub(r'\\d+', '', text)\n",
    "    # Remove links\n",
    "    text = re.sub(r'http\\S+|www\\S+', '', text)\n",
    "    # Remove emojis (This is a basic regex for emojis, might not cover all cases)\n",
    "    text = re.sub(r'[^\\w\\s]', '', text)\n",
    "    # Remove extra whitespace\n",
    "    text = text.strip()  # Optional: to remove leading and trailing whitespace\n",
    "    return text\n",
    "\n",
    "\n",
    "# Apply the clean_text function to the 'message' column\n",
    "df['cleaned_message'] = df['message'].apply(clean_text)\n",
    "\n"
   ]
  },
  {
   "cell_type": "code",
   "execution_count": 33,
   "id": "b8db2650-f057-460d-92ff-d804abd580ef",
   "metadata": {},
   "outputs": [],
   "source": [
    "new_data = df['cleaned_message']\n",
    "\n",
    "# Step 1: Vectorize the new input data\n",
    "new_vectorized = vectorizer.transform(new_data)\n",
    "\n",
    "# Step 2: Make predictions\n",
    "predictions = model.predict(new_vectorized)\n"
   ]
  },
  {
   "cell_type": "code",
   "execution_count": 34,
   "id": "a61af814-d47a-4aa1-b595-1125ab50ab9e",
   "metadata": {},
   "outputs": [
    {
     "name": "stdout",
     "output_type": "stream",
     "text": [
      "\n",
      "Most Used Topics with Counts:\n",
      "Political Discussions: 2\n",
      "School or Group Chat: 2\n",
      "Casual Conversations: 43\n",
      "Sports Discussions: 2\n",
      "Informal Discussions: 1\n",
      "Relationship Talks: 3\n",
      "Religious References: 1\n",
      "\n",
      "Most Used Topics with Counts:\n",
      "Casual Conversations: 43\n",
      "Relationship Talks: 3\n",
      "Political Discussions: 2\n",
      "School or Group Chat: 2\n"
     ]
    }
   ],
   "source": [
    "# Step 3: Output the predictions and count occurrences\n",
    "topic_counts = Counter()\n",
    "new_data = df['cleaned_message']\n",
    "for text, prediction in zip(new_data, predictions):\n",
    "    topic_counts[prediction] += 1  # Increment the count for the predicted topic\n",
    "\n",
    "# Step 4: Display the most used topics with counts\n",
    "print(\"\\nMost Used Topics with Counts:\")\n",
    "for topic, count in topic_counts.items():\n",
    "    print(f\"{topic}: {count}\")\n",
    "\n",
    "print(\"\\nMost Used Topics with Counts:\")\n",
    "for topic, count in topic_counts.most_common(4):  # Get the top 3 most common topics\n",
    "    print(f\"{topic}: {count}\")"
   ]
  },
  {
   "cell_type": "code",
   "execution_count": 35,
   "id": "44be40dd-c8ed-4f93-9f5d-26c83eb0e346",
   "metadata": {},
   "outputs": [],
   "source": [
    "import pickle\n",
    "pickle.dump(model, open(\"model.pkl\", \"wb\"))\n",
    "\n",
    "pickle.dump(vectorizer, open(\"vectorizer.pkl\", \"wb\"))"
   ]
  },
  {
   "cell_type": "code",
   "execution_count": 36,
   "id": "1f39cd60-68e5-482b-af13-b5559637c534",
   "metadata": {},
   "outputs": [
    {
     "name": "stdout",
     "output_type": "stream",
     "text": [
      "1.0.2\n"
     ]
    }
   ],
   "source": [
    "import sklearn\n",
    "print(sklearn.__version__)\n"
   ]
  },
  {
   "cell_type": "code",
   "execution_count": 37,
   "id": "43b78540-1de6-48dc-814e-12a4190bc0fb",
   "metadata": {},
   "outputs": [
    {
     "name": "stdout",
     "output_type": "stream",
     "text": [
      "Python executable: C:\\Users\\abuba\\anaconda3\\envs\\myenv\\python.exe\n",
      "\n",
      "Installed packages:\n",
      "anyio==4.2.0\n",
      "argon2-cffi-bindings==21.2.0\n",
      "argon2-cffi==21.3.0\n",
      "asttokens==2.0.5\n",
      "async-lru==2.0.4\n",
      "attrs==23.1.0\n",
      "autocommand==2.2.2\n",
      "babel==2.11.0\n",
      "backcall==0.2.0\n",
      "backports.tarfile==1.2.0\n",
      "beautifulsoup4==4.12.3\n",
      "bleach==4.1.0\n",
      "brotli==1.0.9\n",
      "certifi==2024.7.4\n",
      "cffi==1.16.0\n",
      "charset-normalizer==3.3.2\n",
      "colorama==0.4.6\n",
      "comm==0.2.1\n",
      "debugpy==1.6.7\n",
      "decorator==5.1.1\n",
      "defusedxml==0.7.1\n",
      "exceptiongroup==1.2.0\n",
      "executing==0.8.3\n",
      "fastjsonschema==2.16.2\n",
      "idna==3.7\n",
      "imbalanced-learn==0.12.3\n",
      "importlib-metadata==7.0.1\n",
      "importlib-resources==6.4.0\n",
      "inflect==7.3.1\n",
      "ipykernel==6.28.0\n",
      "ipython==8.12.2\n",
      "ipywidgets==8.1.2\n",
      "jaraco.context==5.3.0\n",
      "jaraco.functools==4.0.1\n",
      "jaraco.text==3.12.1\n",
      "jedi==0.19.1\n",
      "jinja2==3.1.4\n",
      "joblib==1.4.2\n",
      "json5==0.9.6\n",
      "jsonschema-specifications==2023.7.1\n",
      "jsonschema==4.19.2\n",
      "jupyter-client==8.6.0\n",
      "jupyter-console==6.6.3\n",
      "jupyter-core==5.7.2\n",
      "jupyter-events==0.10.0\n",
      "jupyter-lsp==2.2.0\n",
      "jupyter-server-terminals==0.4.4\n",
      "jupyter-server==2.14.1\n",
      "jupyter==1.0.0\n",
      "jupyterlab-pygments==0.1.2\n",
      "jupyterlab-server==2.25.1\n",
      "jupyterlab-widgets==3.0.10\n",
      "jupyterlab==4.0.11\n",
      "markupsafe==2.1.3\n",
      "matplotlib-inline==0.1.6\n",
      "mistune==2.0.4\n",
      "more-itertools==10.3.0\n",
      "nbclient==0.8.0\n",
      "nbconvert==7.10.0\n",
      "nbformat==5.9.2\n",
      "nest-asyncio==1.6.0\n",
      "notebook-shim==0.2.3\n",
      "notebook==7.0.8\n",
      "numpy==1.21.6\n",
      "ordered-set==4.1.0\n",
      "overrides==7.4.0\n",
      "packaging==24.1\n",
      "pandas==1.1.5\n",
      "pandocfilters==1.5.0\n",
      "parso==0.8.3\n",
      "pickleshare==0.7.5\n",
      "pip==24.2\n",
      "pkgutil-resolve-name==1.3.10\n",
      "platformdirs==3.10.0\n",
      "ply==3.11\n",
      "prometheus-client==0.14.1\n",
      "prompt-toolkit==3.0.43\n",
      "psutil==5.9.0\n",
      "pure-eval==0.2.2\n",
      "pycparser==2.21\n",
      "pygments==2.15.1\n",
      "pyqt5-sip==12.13.0\n",
      "pyqt5==5.15.10\n",
      "pysocks==1.7.1\n",
      "python-dateutil==2.9.0.post0\n",
      "python-json-logger==2.0.7\n",
      "pytz==2024.1\n",
      "pywin32==305.1\n",
      "pywinpty==2.0.10\n",
      "pyyaml==6.0.1\n",
      "pyzmq==25.1.2\n",
      "qtconsole==5.5.1\n",
      "qtpy==2.4.1\n",
      "referencing==0.30.2\n",
      "requests==2.32.3\n",
      "rfc3339-validator==0.1.4\n",
      "rfc3986-validator==0.1.1\n",
      "rpds-py==0.10.6\n",
      "scikit-learn==1.0.2\n",
      "scipy==1.7.3\n",
      "send2trash==1.8.2\n",
      "setuptools==72.1.0\n",
      "sip==6.7.12\n",
      "six==1.16.0\n",
      "sniffio==1.3.0\n",
      "soupsieve==2.5\n",
      "stack-data==0.2.0\n",
      "terminado==0.17.1\n",
      "threadpoolctl==3.5.0\n",
      "tinycss2==1.2.1\n",
      "tomli==2.0.1\n",
      "tornado==6.4.1\n",
      "traitlets==5.14.3\n",
      "typeguard==4.3.0\n",
      "typing-extensions==4.11.0\n",
      "tzdata==2024.1\n",
      "urllib3==2.2.2\n",
      "wcwidth==0.2.5\n",
      "webencodings==0.5.1\n",
      "websocket-client==1.8.0\n",
      "wheel==0.43.0\n",
      "widgetsnbextension==4.0.10\n",
      "win-inet-pton==1.1.0\n",
      "zipp==3.17.0\n"
     ]
    }
   ],
   "source": [
    "import sys\n",
    "import pkg_resources\n",
    "\n",
    "# Check Python executable path\n",
    "print(\"Python executable:\", sys.executable)\n",
    "\n",
    "# List installed packages\n",
    "installed_packages = pkg_resources.working_set\n",
    "installed_packages_list = sorted([\"{}=={}\".format(i.key, i.version) for i in installed_packages])\n",
    "print(\"\\nInstalled packages:\")\n",
    "print(\"\\n\".join(installed_packages_list))\n",
    "\n"
   ]
  },
  {
   "cell_type": "code",
   "execution_count": 38,
   "id": "63eb692e-3ebf-49be-a1b8-47e9dfa1fe97",
   "metadata": {},
   "outputs": [
    {
     "name": "stdout",
     "output_type": "stream",
     "text": [
      "1.7.3\n"
     ]
    }
   ],
   "source": [
    "import scipy\n",
    "print(scipy.__version__)\n"
   ]
  },
  {
   "cell_type": "code",
   "execution_count": 39,
   "id": "0236f047-4d71-495b-a69a-127201375e4f",
   "metadata": {},
   "outputs": [
    {
     "name": "stdout",
     "output_type": "stream",
     "text": [
      "1.1.5\n"
     ]
    }
   ],
   "source": [
    "import pandas\n",
    "print(pandas.__version__)"
   ]
  },
  {
   "cell_type": "code",
   "execution_count": 45,
   "id": "7df42734-8738-4eff-bd46-0fb4090a6d25",
   "metadata": {},
   "outputs": [
    {
     "name": "stdout",
     "output_type": "stream",
     "text": [
      "1.21.6\n"
     ]
    }
   ],
   "source": [
    "import numpy \n",
    "print(numpy.__version__)"
   ]
  },
  {
   "cell_type": "code",
   "execution_count": 49,
   "id": "706d5e1c-5402-4ded-be40-0a12e308c991",
   "metadata": {},
   "outputs": [
    {
     "name": "stdout",
     "output_type": "stream",
     "text": [
      "Numpy version: 1.21.6\n",
      "Scipy version: 1.7.3\n",
      "Scikit-learn version: 1.0.2\n",
      "Pandas version: 1.1.5\n"
     ]
    }
   ],
   "source": [
    "print(\"Numpy version:\", numpy.__version__)\n",
    "print(\"Scipy version:\", scipy.__version__)\n",
    "print(\"Scikit-learn version:\", sklearn.__version__)\n",
    "print(\"Pandas version:\", pd.__version__)\n",
    "# print(\"Matplotlib version:\", matplotlib.__version__)\n",
    "# print(\"Seaborn version:\", seaborn.__version__)"
   ]
  },
  {
   "cell_type": "code",
   "execution_count": null,
   "id": "992c5ca6-f12a-41a8-88ef-ccf2e5179264",
   "metadata": {},
   "outputs": [],
   "source": []
  }
 ],
 "metadata": {
  "kernelspec": {
   "display_name": "Python (abubakar)",
   "language": "python",
   "name": "abubakar"
  },
  "language_info": {
   "codemirror_mode": {
    "name": "ipython",
    "version": 3
   },
   "file_extension": ".py",
   "mimetype": "text/x-python",
   "name": "python",
   "nbconvert_exporter": "python",
   "pygments_lexer": "ipython3",
   "version": "3.8.19"
  }
 },
 "nbformat": 4,
 "nbformat_minor": 5
}
